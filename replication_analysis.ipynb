{
 "cells": [
  {
   "cell_type": "markdown",
   "id": "836c4865-46e7-4edf-9674-36d35fba30d1",
   "metadata": {},
   "source": [
    "# REPLICATION: DATA ANALYSIS"
   ]
  },
  {
   "cell_type": "markdown",
   "id": "2f3190c7-3fa6-43b3-8675-72c789f87625",
   "metadata": {},
   "source": [
    "As mentioned in the README.md, the replication phase of this project aims at studying the influence of several variability factors of the original experiment. We selected two of them:\n",
    "- LLM: we used a other model, Llama, to generate 100 games against Stockfish. We will evaluate its ability to play legal moves and compare its strength to the other LLMs, using the same ELO rating computing method.\n",
    "- Variant: we made ChatGPT 3.5 turbo-instruct and Llama play Chess960 against Stockfish, to see if it is able to notice it and play accordingly (in the PGN headers), and at which level of strength."
   ]
  },
  {
   "cell_type": "code",
   "execution_count": 3,
   "id": "6e09b552-23e9-4203-bc22-0748d9c35a66",
   "metadata": {},
   "outputs": [],
   "source": [
    "import chess \n",
    "import chess.pgn\n",
    "import glob\n",
    "import pandas as pd\n",
    "import os \n",
    "import re \n",
    "import matplotlib.pyplot as plt\n",
    "from jupyterChessPGN import JupyterChessPGN\n",
    "import numpy as np"
   ]
  },
  {
   "cell_type": "code",
   "execution_count": 32,
   "id": "33980763-10de-4179-b2df-78b2eee781be",
   "metadata": {},
   "outputs": [],
   "source": [
    "def compute_score(df, model_name='gpt-3.5-turbo-instruct', percentage=True):\n",
    "    # Count the number of wins, losses, and draws for gpt-3.5-turbo-instruct\n",
    "      \n",
    "    wins_as_white = df[(df['white'] == model_name) & (df['result'] == '1-0')].shape[0]\n",
    "    wins_as_black = df[(df['black'] == model_name) & (df['result'] == '0-1')].shape[0]\n",
    "    losses_as_white = df[(df['white'] == model_name) & (df['result'] == '0-1')].shape[0]\n",
    "    losses_as_black = df[(df['black'] == model_name) & (df['result'] == '1-0')].shape[0]\n",
    "    draws_as_white = df[(df['white'] == model_name) & (df['result'] == '1/2-1/2')].shape[0]\n",
    "    draws_as_black = df[(df['black'] == model_name) & (df['result'] == '1/2-1/2')].shape[0]\n",
    "\n",
    "    # Calculate total wins, losses, and draws\n",
    "    total_wins = wins_as_white + wins_as_black\n",
    "    total_losses = losses_as_white + losses_as_black\n",
    "    total_draws = draws_as_white + draws_as_black\n",
    "\n",
    "    if percentage:\n",
    "        return (total_wins + (total_draws * 0.5)) / (total_wins + total_losses + total_draws)\n",
    "    else:\n",
    "        return (total_wins + (total_draws * 0.5), total_wins + total_losses + total_draws)\n"
   ]
  },
  {
   "cell_type": "code",
   "execution_count": 33,
   "id": "c9fbe512-9789-47d5-83ea-19a2973bcbff",
   "metadata": {},
   "outputs": [],
   "source": [
    "def display_game(game_folder: str):\n",
    "    jc = JupyterChessPGN(os.path.join(game_folder, \"game.pgn\")) \n",
    "    jc.make_gamelist_menu()\n",
    "    # first game of PGN file to init \n",
    "    jc.set_ith_game(0)\n",
    "    jc.showUI()"
   ]
  },
  {
   "cell_type": "code",
   "execution_count": null,
   "id": "4a71c2c2-9ca0-44e1-8b8b-d7f3218c1dee",
   "metadata": {},
   "outputs": [],
   "source": [
    "# To load data from an existing dataframe:\n",
    "# df = pd.read_csv(\"analysis_files/games_replication_db.csv\")"
   ]
  },
  {
   "cell_type": "markdown",
   "id": "8c472656-4053-45da-81c3-709f56a748cc",
   "metadata": {},
   "source": [
    "# Store the games in a pandas dataframe"
   ]
  },
  {
   "cell_type": "code",
   "execution_count": 44,
   "id": "8d4fdc3f-ec87-42c3-8d21-638028789a49",
   "metadata": {},
   "outputs": [
    {
     "name": "stdout",
     "output_type": "stream",
     "text": [
      "Folder used: games_replication\n"
     ]
    }
   ],
   "source": [
    "# If you are using the notebook manually: set the correct folder in the default_folder variable\n",
    "# If the notebook is used for automatic html generation by docker: infer it from the GPTCHESS_GAMES_FILE environment variable\n",
    "\n",
    "default_folder = \"games_replication\"\n",
    "\n",
    "games_compressed_file = os.getenv(\"GPTCHESS_GAMES_FILE\")\n",
    "\n",
    "if games_compressed_file is None:\n",
    "    games_folder = default_folder\n",
    "else:\n",
    "    games_folder = os.path.join(os.getenv(\"WORKDIR\"),\n",
    "                                os.path.basename(games_compressed_file).split(\".\")[0]\n",
    "                               )\n",
    "    \n",
    "print(f\"Folder used: {games_folder}\")"
   ]
  },
  {
   "cell_type": "markdown",
   "id": "686af3b5-641f-4def-98ef-d003156b0b67",
   "metadata": {},
   "source": [
    "### Retrieve information from each game"
   ]
  },
  {
   "cell_type": "code",
   "execution_count": 45,
   "id": "215ff986-a523-4a92-a417-ca47369d4da0",
   "metadata": {},
   "outputs": [
    {
     "name": "stdout",
     "output_type": "stream",
     "text": [
      "No game.pgn in games_replication/game3b0d71b8-8de8-4edd-96a2-3548553a571c\n",
      "No game.pgn in games_replication/game55bb41e2-bf34-4fa0-8d39-f1c7c3b67462\n",
      "No game.pgn in games_replication/game217533d1-622c-4944-bac1-1ac9393c8078\n",
      "No game.pgn in games_replication/game2426f9ce-1ec7-43df-ba15-bca95a43fd75\n",
      "No game.pgn in games_replication/gamec7c433e1-711c-4ad4-ae94-994c4796a21d\n",
      "No game.pgn in games_replication/gameb4d70a3b-032a-4039-aca2-e6c4b27fc274\n",
      "No game.pgn in games_replication/gamefc3b8135-1ea6-46b8-a6b5-242d7a83b97b\n",
      "No game.pgn in games_replication/game7f49edac-fc6f-4040-89d0-33aeaa59f8fa\n",
      "No game.pgn in games_replication/gameb8fa20db-b8c5-4eea-8347-5c649ea0ec24\n",
      "No game.pgn in games_replication/gamefe42daad-5798-40e4-af82-330f117202c0\n",
      "No game.pgn in games_replication/game8785e408-9c49-4b87-bf34-c2d687e056b8\n",
      "No game.pgn in games_replication/game6272abfb-afd8-4fc4-894c-2106ca035047\n",
      "No game.pgn in games_replication/gameb651ca4d-64f7-42a0-9bc6-7103101a783a\n",
      "No game.pgn in games_replication/gameca048849-6e2c-4c18-895a-0dd5fb27c284\n",
      "No game.pgn in games_replication/gamef2cc5314-941c-405e-b3fe-981e7f74ff7d\n"
     ]
    },
    {
     "name": "stderr",
     "output_type": "stream",
     "text": [
      "illegal san: 'O-O' in qrnnbkrb/pppppp1p/6p1/8/8/6P1/PPPPPP1P/QRNNBKRB w - - 0 2 while parsing <Game at 0x798c615897b0 ('Stockfish' vs. 'gpt-3.5-turbo-instruct', '????.??.??' at '?')>\n",
      "illegal san: 'O-O' in qrnnbkrb/pppppppp/8/8/8/8/PPPPPPPP/QRNNBKRB w - - 0 1 while parsing <Game at 0x798c6158a680 ('Stockfish' vs. 'gpt-3.5-turbo-instruct', '????.??.??' at '?')>\n"
     ]
    }
   ],
   "source": [
    "# list each folder of folder \"games\"\n",
    "# get all folders\n",
    "folders = glob.glob(games_folder + \"/*\")\n",
    "\n",
    "# sort folders by date\n",
    "folders.sort(key=os.path.getmtime)\n",
    "\n",
    "df = pd.DataFrame(columns=[\"white\", \"black\", \"white_elo\", \"black_elo\", \"result\", \"nmoves\", \"nstarting_move\", \"pgn_base\", \"temperature\", \"random_engine\", \"has_illegal\", \"illegal_move\", \"folder_name\"])\n",
    "\n",
    "for folder in folders:\n",
    "\n",
    "    # for each folder:\n",
    "    # read PGN file \"game.pgn\"\n",
    "\n",
    "    # check that \"game.pgn\" exists\n",
    "    if not os.path.exists(folder + \"/game.pgn\"):\n",
    "        print(\"No game.pgn in \" + folder) # TODO\n",
    "        continue\n",
    "\n",
    "    with open(folder + \"/game.pgn\") as pgn:\n",
    "        game = chess.pgn.read_game(pgn)\n",
    "\n",
    "    # read metainformation.txt\n",
    "    # get the GPT model and the engine (SF or random)\n",
    "    nmove_value = None\n",
    "    with open(folder + \"/metainformation.txt\") as f:\n",
    "        lines = f.readlines()\n",
    "\n",
    "    # Iterate over each line in the file\n",
    "    for line in lines:\n",
    "        # Check if the line contains the string 'nmove:'\n",
    "        if 'nmove:' in line:\n",
    "            # Split the line at 'nmove:' and take the second part\n",
    "            # Then strip leading and trailing whitespaces and convert to integer\n",
    "            nmove_value = int(line.split('nmove:')[1].strip())\n",
    "            # Print the extracted value\n",
    "            break\n",
    "    \n",
    "    if nmove_value is None:\n",
    "        nmove_value = 1 # default value\n",
    "\n",
    "    # number of moves\n",
    "    game_length = len(list(game.mainline_moves()))\n",
    "\n",
    "    # for each PGN:\n",
    "    # get the GPT model and the engine (SF or random)\n",
    "    white = game.headers[\"White\"]\n",
    "    black = game.headers[\"Black\"]\n",
    "\n",
    "    # get the Elo of the player (if any)\n",
    "    white_elo = game.headers[\"WhiteElo\"]\n",
    "    black_elo = game.headers[\"BlackElo\"]\n",
    "\n",
    "    # get the result (or infer based on checkmates) # special case: no mate, or unifinished game due to wrong move\n",
    "    result = game.headers[\"Result\"]\n",
    "\n",
    "    has_illegal = False\n",
    "    illegal_move = ''\n",
    "    # check that UnknownSAN key is in game\n",
    "    # if not, continue\n",
    "    if 'UnknownSAN' in game.headers:\n",
    "        has_illegal = True\n",
    "        illegal_move = game.headers[\"UnknownSAN\"]\n",
    "        # print(\"warning: UnknownSAN in game\")\n",
    "        # continue\n",
    "\n",
    "    with open(folder + \"/metainformation.txt\") as file:\n",
    "        content = file.read()\n",
    "\n",
    "    # find the content between 'temperature:' and ends of line\n",
    "    match_random = re.search(r'random_engine:([\\s\\S]+?)(\\n)', content, re.MULTILINE)\n",
    "    random_engine = None\n",
    "    if match_random:\n",
    "        random_engine = match_random.group(1).strip()\n",
    "        if 'True' in random_engine:\n",
    "            random_engine = True\n",
    "        elif 'False' in random_engine:\n",
    "            random_engine = False\n",
    "        else:   \n",
    "            print(\"random engine value unclear/unknwon\")\n",
    "                \n",
    "    else:\n",
    "        random_engine = False\n",
    "        # print('No random engine found') # default value: False (note: should not happen)\n",
    "\n",
    "    with open(folder + \"/metainformation.txt\") as file:\n",
    "        content = file.read()\n",
    "\n",
    "    # find the content between 'temperature:' and ends of line\n",
    "    match_temperature = re.search(r'temperature:([\\s\\S]+?)(\\n)', content, re.MULTILINE)\n",
    "    temperature = None\n",
    "    if match_temperature:\n",
    "        temperature = match_temperature.group(1).strip()\n",
    "        # print(extracted_content)\n",
    "    else:\n",
    "        temperature = 0.0\n",
    "        # print('No temperature found') # default value: 0\n",
    "\n",
    "    with open(folder + \"/metainformation.txt\") as file:\n",
    "        content = file.read()\n",
    "\n",
    "    # Find the content between 'base_pgn:' and another term at the start of a new line followed by ':'\n",
    "    match = re.search(r'base_pgn:([\\s\\S]+?)(^\\w+:)', content, re.MULTILINE)\n",
    "    pgn_base = ''\n",
    "    if match:\n",
    "        # Extract and clean up the matched content\n",
    "        pgn_base = match.group(1).strip()\n",
    "        # print(extracted_content)\n",
    "    else:\n",
    "        print('No base pgn found')\n",
    "\n",
    "    # put in dfframe\n",
    "    # columns: white, black, white_elo, black_elo, result\n",
    "    # append to dataframe\n",
    "\n",
    "    game_data = pd.DataFrame([{\"white\": white, \"black\": black, \"white_elo\": white_elo, \"black_elo\": black_elo,\n",
    "                         \"result\": result, \"nmoves\" : game_length, \"nstarting_move\": nmove_value, \"pgn_base\" : pgn_base,\n",
    "                         \"temperature\" : temperature, \"random_engine\" : random_engine, \"has_illegal\" : has_illegal,\n",
    "                         \"illegal_move\" : illegal_move, \"folder_name\" : folder}])\n",
    "    df = pd.concat([df, game_data], ignore_index=True) if len(df) > 0 else game_data\n",
    "\n",
    "\n",
    "    # compute stats\n",
    "    # scores in general, per Elo and chess engine, per GPT model\n",
    "    # ability to finish a game (with weaker models)\n",
    "\n",
    "    # first: Elo = 1700, GPT=3.5 instruct\n",
    "    # second: Elo = 1800, GPT=3.5 instruct\n",
    "    # ...\n",
    "\n"
   ]
  },
  {
   "cell_type": "code",
   "execution_count": 46,
   "id": "14232eb4-5224-4d0b-9513-3045e6d9b020",
   "metadata": {},
   "outputs": [],
   "source": [
    "import chess\n",
    "import chess.pgn\n",
    "import io \n",
    "\n",
    "# include a column indicating wether this is a normal chess game or chess960\n",
    "\n",
    "def is960(pgn):\n",
    "    g = chess.pgn.read_game(io.StringIO(pgn))\n",
    "    return g.headers.is_chess960()\n",
    "\n",
    "df[\"chess960\"] = df[\"pgn_base\"].apply(is960)"
   ]
  },
  {
   "cell_type": "code",
   "execution_count": 47,
   "id": "da161263-44a8-4284-b1ec-014a17f3a7f5",
   "metadata": {},
   "outputs": [
    {
     "name": "stdout",
     "output_type": "stream",
     "text": [
      "-> 208/223 games retrieved\n"
     ]
    }
   ],
   "source": [
    "print(f\"-> {len(df)}/{len(folders)} games retrieved\")"
   ]
  },
  {
   "cell_type": "markdown",
   "id": "cf8bedbc-3076-4b91-919a-54df1f20d1c1",
   "metadata": {},
   "source": [
    "### Result"
   ]
  },
  {
   "cell_type": "code",
   "execution_count": 48,
   "id": "6d4b6dfc-8ca0-48f6-91ce-b948f9976554",
   "metadata": {},
   "outputs": [
    {
     "data": {
      "text/html": [
       "<div>\n",
       "<style scoped>\n",
       "    .dataframe tbody tr th:only-of-type {\n",
       "        vertical-align: middle;\n",
       "    }\n",
       "\n",
       "    .dataframe tbody tr th {\n",
       "        vertical-align: top;\n",
       "    }\n",
       "\n",
       "    .dataframe thead th {\n",
       "        text-align: right;\n",
       "    }\n",
       "</style>\n",
       "<table border=\"1\" class=\"dataframe\">\n",
       "  <thead>\n",
       "    <tr style=\"text-align: right;\">\n",
       "      <th></th>\n",
       "      <th>white</th>\n",
       "      <th>black</th>\n",
       "      <th>white_elo</th>\n",
       "      <th>black_elo</th>\n",
       "      <th>result</th>\n",
       "      <th>nmoves</th>\n",
       "      <th>nstarting_move</th>\n",
       "      <th>pgn_base</th>\n",
       "      <th>temperature</th>\n",
       "      <th>random_engine</th>\n",
       "      <th>has_illegal</th>\n",
       "      <th>illegal_move</th>\n",
       "      <th>folder_name</th>\n",
       "      <th>chess960</th>\n",
       "    </tr>\n",
       "  </thead>\n",
       "  <tbody>\n",
       "    <tr>\n",
       "      <th>0</th>\n",
       "      <td>Stockfish</td>\n",
       "      <td>gpt-3.5-turbo-instruct</td>\n",
       "      <td>1954</td>\n",
       "      <td>?</td>\n",
       "      <td>*</td>\n",
       "      <td>7</td>\n",
       "      <td>1</td>\n",
       "      <td>[Event \"FIDE World Championship Match 2024\"]\\n...</td>\n",
       "      <td>0.0</td>\n",
       "      <td>False</td>\n",
       "      <td>True</td>\n",
       "      <td>Nc6</td>\n",
       "      <td>games_replication/game0a018ed3-fbfc-4d00-8460-...</td>\n",
       "      <td>True</td>\n",
       "    </tr>\n",
       "    <tr>\n",
       "      <th>1</th>\n",
       "      <td>Stockfish</td>\n",
       "      <td>gpt-3.5-turbo-instruct</td>\n",
       "      <td>1954</td>\n",
       "      <td>?</td>\n",
       "      <td>*</td>\n",
       "      <td>11</td>\n",
       "      <td>1</td>\n",
       "      <td>[Event \"FIDE World Championship Match 2024\"]\\n...</td>\n",
       "      <td>0.0</td>\n",
       "      <td>False</td>\n",
       "      <td>True</td>\n",
       "      <td>Qxd4</td>\n",
       "      <td>games_replication/game7a75ff64-8bf2-44b8-a82b-...</td>\n",
       "      <td>True</td>\n",
       "    </tr>\n",
       "    <tr>\n",
       "      <th>2</th>\n",
       "      <td>Stockfish</td>\n",
       "      <td>gpt-3.5-turbo-instruct</td>\n",
       "      <td>1954</td>\n",
       "      <td>?</td>\n",
       "      <td>*</td>\n",
       "      <td>9</td>\n",
       "      <td>1</td>\n",
       "      <td>[Event \"FIDE World Championship Match 2024\"]\\n...</td>\n",
       "      <td>0.0</td>\n",
       "      <td>False</td>\n",
       "      <td>True</td>\n",
       "      <td>Nf6</td>\n",
       "      <td>games_replication/game90832e60-aeb0-4558-b1e7-...</td>\n",
       "      <td>True</td>\n",
       "    </tr>\n",
       "    <tr>\n",
       "      <th>3</th>\n",
       "      <td>Stockfish</td>\n",
       "      <td>gpt-3.5-turbo-instruct</td>\n",
       "      <td>1954</td>\n",
       "      <td>?</td>\n",
       "      <td>*</td>\n",
       "      <td>1</td>\n",
       "      <td>1</td>\n",
       "      <td>[Event \"FIDE World Championship Match 2024\"]\\n...</td>\n",
       "      <td>0.0</td>\n",
       "      <td>False</td>\n",
       "      <td>True</td>\n",
       "      <td>1.</td>\n",
       "      <td>games_replication/game54e63739-7247-4a63-9c84-...</td>\n",
       "      <td>True</td>\n",
       "    </tr>\n",
       "    <tr>\n",
       "      <th>4</th>\n",
       "      <td>Stockfish</td>\n",
       "      <td>gpt-3.5-turbo-instruct</td>\n",
       "      <td>1954</td>\n",
       "      <td>?</td>\n",
       "      <td>*</td>\n",
       "      <td>11</td>\n",
       "      <td>1</td>\n",
       "      <td>[Event \"FIDE World Championship Match 2024\"]\\n...</td>\n",
       "      <td>0.0</td>\n",
       "      <td>False</td>\n",
       "      <td>True</td>\n",
       "      <td>Bg4</td>\n",
       "      <td>games_replication/game1c4c3eb8-2b3f-4f89-ba17-...</td>\n",
       "      <td>True</td>\n",
       "    </tr>\n",
       "  </tbody>\n",
       "</table>\n",
       "</div>"
      ],
      "text/plain": [
       "       white                   black white_elo black_elo result  nmoves  \\\n",
       "0  Stockfish  gpt-3.5-turbo-instruct      1954         ?      *       7   \n",
       "1  Stockfish  gpt-3.5-turbo-instruct      1954         ?      *      11   \n",
       "2  Stockfish  gpt-3.5-turbo-instruct      1954         ?      *       9   \n",
       "3  Stockfish  gpt-3.5-turbo-instruct      1954         ?      *       1   \n",
       "4  Stockfish  gpt-3.5-turbo-instruct      1954         ?      *      11   \n",
       "\n",
       "   nstarting_move                                           pgn_base  \\\n",
       "0               1  [Event \"FIDE World Championship Match 2024\"]\\n...   \n",
       "1               1  [Event \"FIDE World Championship Match 2024\"]\\n...   \n",
       "2               1  [Event \"FIDE World Championship Match 2024\"]\\n...   \n",
       "3               1  [Event \"FIDE World Championship Match 2024\"]\\n...   \n",
       "4               1  [Event \"FIDE World Championship Match 2024\"]\\n...   \n",
       "\n",
       "  temperature  random_engine  has_illegal illegal_move  \\\n",
       "0         0.0          False         True          Nc6   \n",
       "1         0.0          False         True         Qxd4   \n",
       "2         0.0          False         True          Nf6   \n",
       "3         0.0          False         True           1.   \n",
       "4         0.0          False         True          Bg4   \n",
       "\n",
       "                                         folder_name  chess960  \n",
       "0  games_replication/game0a018ed3-fbfc-4d00-8460-...      True  \n",
       "1  games_replication/game7a75ff64-8bf2-44b8-a82b-...      True  \n",
       "2  games_replication/game90832e60-aeb0-4558-b1e7-...      True  \n",
       "3  games_replication/game54e63739-7247-4a63-9c84-...      True  \n",
       "4  games_replication/game1c4c3eb8-2b3f-4f89-ba17-...      True  "
      ]
     },
     "execution_count": 48,
     "metadata": {},
     "output_type": "execute_result"
    }
   ],
   "source": [
    "df.head()"
   ]
  },
  {
   "cell_type": "code",
   "execution_count": 49,
   "id": "4845b045-1dcb-4cd4-abbe-1e5539c276c9",
   "metadata": {},
   "outputs": [
    {
     "name": "stdout",
     "output_type": "stream",
     "text": [
      "- Variant Normal:\n",
      "       llama-3.3-70b-versatile  gpt-3.5-turbo-instruct\n",
      "white                        0                       0\n",
      "black                      100                       5\n",
      "total                      100                       5 \n",
      "\n",
      "- Variant Chess960:\n",
      "       llama-3.3-70b-versatile  gpt-3.5-turbo-instruct\n",
      "white                        0                       0\n",
      "black                       90                      13\n",
      "total                       90                      13 \n",
      "\n"
     ]
    }
   ],
   "source": [
    "# Frequencies based on piece colors\n",
    "for variant in (\"Normal\", \"Chess960\"):\n",
    "    chess960 = variant == \"Chess960\"\n",
    "    \n",
    "    df_variant = df[df[\"chess960\"] == chess960]\n",
    "    players = set(df_variant[\"white\"].unique()).union(set(df_variant[\"black\"].unique())).difference({\"Stockfish\"})\n",
    "    color_breakdown = {}\n",
    "    for player in players:\n",
    "        white_count = df_variant[df_variant['white'] == player].shape[0]\n",
    "        black_count = df_variant[df_variant['black'] == player].shape[0]\n",
    "        color_breakdown[player] = {'white': white_count, 'black': black_count, 'total': white_count+black_count}\n",
    "\n",
    "    print(f\"- Variant {variant}:\")\n",
    "    print(pd.DataFrame(color_breakdown), \"\\n\")"
   ]
  },
  {
   "cell_type": "code",
   "execution_count": 50,
   "id": "d31b8217-33f0-491e-a138-5699a681dda2",
   "metadata": {},
   "outputs": [
    {
     "name": "stdout",
     "output_type": "stream",
     "text": [
      "Saved at analysis_files/games_replication_db.csv\n"
     ]
    }
   ],
   "source": [
    "df.to_csv(f\"analysis_files/{os.path.basename(games_folder)}_db.csv\")\n",
    "print(f\"Saved at analysis_files/{os.path.basename(games_folder)}_db.csv\")"
   ]
  },
  {
   "cell_type": "markdown",
   "id": "717cd3dc-5958-455f-adc7-76142ed05579",
   "metadata": {},
   "source": [
    "# Llama against Stockfish (normal chess): illegal moves and ELO"
   ]
  },
  {
   "cell_type": "markdown",
   "id": "48448942-9b7a-4b4d-b69f-c4f67b898658",
   "metadata": {},
   "source": [
    "### Illegal moves analysis"
   ]
  },
  {
   "cell_type": "code",
   "execution_count": 68,
   "id": "935eb6c2-a6f9-4496-9db5-d416b068698e",
   "metadata": {},
   "outputs": [],
   "source": [
    "def illegal_moves_analysis(df, model_name, filtering_rules=None):\n",
    "    df = df.query(f\"white == '{model_name}' or black == '{model_name}'\")\n",
    "    \n",
    "    if filtering_rules is not None:\n",
    "        print(f\"ANALYSIS OF {model_name}, WITH '{filtering_rules}':\")\n",
    "        df = df.query(filtering_rules)\n",
    "    else:\n",
    "        print(f\"ANALYSIS OF {model_name}:\")\n",
    "\n",
    "    # Games lengths\n",
    "    print(f\"- {len(df)} total games, with lengths:\")\n",
    "    (df['nmoves'] / 2).plot(kind='box')\n",
    "    plt.show()\n",
    "\n",
    "    # Score\n",
    "    df_legal_games = df.query(\"has_illegal == False\")\n",
    "    if len(df_legal_games > 0):\n",
    "        score = compute_score(df_legal_games, model_name=model_name)\n",
    "        print(f\"- Score {round(100*score, 2)}% for games with only legal moves\")\n",
    "    \n",
    "    score, t = compute_score(df, model_name=model_name, percentage=False)\n",
    "    tot = len(df)\n",
    "    print(f\"Score {round(100*(score/tot), 2)}% for all games i.e. {score}/{tot}, being legal or illegal (illegal move = loss)\")\n",
    "\n",
    "    # Number of illegal games & enum\n",
    "    vals = df['has_illegal'].value_counts()\n",
    "    ntot = vals.get(True, 0) + vals.get(False, 0)\n",
    "    illegal_percentage = round((vals.get(True, 0)/ntot)*100) if ntot else 0\n",
    "    print(f\"- Out of {ntot} games, {vals.get(False, 0)} were legal games and {vals.get(True, 0)} were illegal games, hence {illegal_percentage}% of illegal games.\")\n",
    "\n",
    "    print(\"Illegal moves are:\")\n",
    "    print(df.query(\"has_illegal == True\")['illegal_move'].value_counts().to_markdown())"
   ]
  },
  {
   "cell_type": "code",
   "execution_count": 69,
   "id": "e9f717a3-c71f-48d6-a9d1-d6c4bb735f27",
   "metadata": {},
   "outputs": [
    {
     "name": "stdout",
     "output_type": "stream",
     "text": [
      "ANALYSIS OF llama-3.3-70b-versatile, WITH 'chess960 == False':\n",
      "- 100 total games, with lengths:\n"
     ]
    },
    {
     "data": {
      "image/png": "[encoded data removed]",
      "text/plain": [
       "<Figure size 640x480 with 1 Axes>"
      ]
     },
     "metadata": {},
     "output_type": "display_data"
    },
    {
     "name": "stdout",
     "output_type": "stream",
     "text": [
      "Score 0.0% for all games i.e. 0.0/100, being legal or illegal (illegal move = loss)\n",
      "- Out of 100 games, 0 were legal games and 100 were illegal games, hence 100% of illegal games.\n",
      "Illegal moves are:\n",
      "| illegal_move   |   count |\n",
      "|:---------------|--------:|\n",
      "| A              |      57 |\n",
      "| You've         |      20 |\n",
      "| With           |      15 |\n",
      "| It             |       7 |\n",
      "| 1.             |       1 |\n"
     ]
    }
   ],
   "source": [
    "illegal_moves_analysis(df, \"llama-3.3-70b-versatile\", \"chess960 == False\")"
   ]
  },
  {
   "cell_type": "markdown",
   "id": "8cca5a0f-2a79-4c99-bb7f-cba50ce5e14a",
   "metadata": {},
   "source": [
    "## ELO rating"
   ]
  },
  {
   "cell_type": "markdown",
   "id": "391b3e6f-293e-4b64-af92-8bb36daa9c0b",
   "metadata": {},
   "source": [
    "Pointless"
   ]
  },
  {
   "cell_type": "markdown",
   "id": "eec8baf2-c442-40a6-89d8-56aea9b9eed8",
   "metadata": {},
   "source": []
  }
 ],
 "metadata": {
  "kernelspec": {
   "display_name": ".venv",
   "language": "python",
   "name": ".venv"
  },
  "language_info": {
   "codemirror_mode": {
    "name": "ipython",
    "version": 3
   },
   "file_extension": ".py",
   "mimetype": "text/x-python",
   "name": "python",
   "nbconvert_exporter": "python",
   "pygments_lexer": "ipython3",
   "version": "3.10.12"
  }
 },
 "nbformat": 4,
 "nbformat_minor": 5
}
