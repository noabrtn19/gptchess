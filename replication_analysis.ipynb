{
 "cells": [
  {
   "cell_type": "markdown",
   "id": "836c4865-46e7-4edf-9674-36d35fba30d1",
   "metadata": {},
   "source": [
    "# REPLICATION: DATA ANALYSIS"
   ]
  },
  {
   "cell_type": "markdown",
   "id": "2f3190c7-3fa6-43b3-8675-72c789f87625",
   "metadata": {},
   "source": [
    "As mentioned in the README.md, the replication phase of this project aims at studying the influence of several variability factors of the original experiment. We selected two of them:\n",
    "- LLM: we used another model, llama-3.3-70b-versatile, to generate 20 games against Stockfish. We then evaluate its ability to play legal moves.\n",
    "- Variant: we made ChatGPT 3.5 turbo-instruct and Llama (same version) play Chess960 against Stockfish (13 and 20 games, respectively), to see if they are able to notice it (in the PGN headers) and play accordingly."
   ]
  },
  {
   "cell_type": "code",
   "execution_count": 33,
   "id": "6e09b552-23e9-4203-bc22-0748d9c35a66",
   "metadata": {},
   "outputs": [],
   "source": [
    "import chess \n",
    "import chess.pgn\n",
    "import glob\n",
    "import pandas as pd\n",
    "import os \n",
    "import re \n",
    "import matplotlib.pyplot as plt\n",
    "from jupyterChessPGN import JupyterChessPGN\n",
    "import numpy as np\n",
    "import chess\n",
    "import chess.pgn\n",
    "import io "
   ]
  },
  {
   "cell_type": "code",
   "execution_count": 34,
   "id": "33980763-10de-4179-b2df-78b2eee781be",
   "metadata": {},
   "outputs": [],
   "source": [
    "def compute_score(df, model_name='gpt-3.5-turbo-instruct', percentage=True):\n",
    "    # Count the number of wins, losses, and draws for gpt-3.5-turbo-instruct\n",
    "      \n",
    "    wins_as_white = df[(df['white'] == model_name) & (df['result'] == '1-0')].shape[0]\n",
    "    wins_as_black = df[(df['black'] == model_name) & (df['result'] == '0-1')].shape[0]\n",
    "    losses_as_white = df[(df['white'] == model_name) & (df['result'] == '0-1')].shape[0]\n",
    "    losses_as_black = df[(df['black'] == model_name) & (df['result'] == '1-0')].shape[0]\n",
    "    draws_as_white = df[(df['white'] == model_name) & (df['result'] == '1/2-1/2')].shape[0]\n",
    "    draws_as_black = df[(df['black'] == model_name) & (df['result'] == '1/2-1/2')].shape[0]\n",
    "\n",
    "    # Calculate total wins, losses, and draws\n",
    "    total_wins = wins_as_white + wins_as_black\n",
    "    total_losses = losses_as_white + losses_as_black\n",
    "    total_draws = draws_as_white + draws_as_black\n",
    "\n",
    "    if percentage:\n",
    "        return (total_wins + (total_draws * 0.5)) / (total_wins + total_losses + total_draws)\n",
    "    else:\n",
    "        return (total_wins + (total_draws * 0.5), total_wins + total_losses + total_draws)\n"
   ]
  },
  {
   "cell_type": "code",
   "execution_count": 35,
   "id": "c9fbe512-9789-47d5-83ea-19a2973bcbff",
   "metadata": {},
   "outputs": [],
   "source": [
    "def display_game(game_folder: str):\n",
    "    jc = JupyterChessPGN(os.path.join(game_folder, \"game.pgn\")) \n",
    "    jc.make_gamelist_menu()\n",
    "    # first game of PGN file to init \n",
    "    jc.set_ith_game(0)\n",
    "    jc.showUI(print_pgn=True)"
   ]
  },
  {
   "cell_type": "code",
   "execution_count": 36,
   "id": "0254f22f-bcd0-49c5-804e-4513b5081c62",
   "metadata": {},
   "outputs": [],
   "source": [
    "def illegal_moves_analysis(df, model_name, filtering_rules=None):\n",
    "    df = df.query(f\"white == '{model_name}' or black == '{model_name}'\")\n",
    "    \n",
    "    if filtering_rules is not None:\n",
    "        print(f\"ANALYSIS OF {model_name}, WITH '{filtering_rules}':\")\n",
    "        df = df.query(filtering_rules)\n",
    "    else:\n",
    "        print(f\"ANALYSIS OF {model_name}:\")\n",
    "\n",
    "    # Games lengths\n",
    "    print(f\"- {len(df)} total games, with lengths:\")\n",
    "    (df['nmoves'] / 2).plot(kind='box')\n",
    "    plt.show()\n",
    "\n",
    "    # Score\n",
    "    df_legal_games = df.query(\"has_illegal == False\")\n",
    "    if len(df_legal_games) > 0:\n",
    "        score = compute_score(df_legal_games, model_name=model_name)\n",
    "        print(f\"- Score {round(100*score, 2)}% for games with only legal moves\")\n",
    "    \n",
    "    score, t = compute_score(df, model_name=model_name, percentage=False)\n",
    "    tot = len(df)\n",
    "    print(f\"Score {round(100*(score/tot), 2)}% for all games i.e. {score}/{tot}, being legal or illegal (illegal move = loss)\")\n",
    "\n",
    "    # Number of illegal games & enum\n",
    "    vals = df['has_illegal'].value_counts()\n",
    "    ntot = vals.get(True, 0) + vals.get(False, 0)\n",
    "    illegal_percentage = round((vals.get(True, 0)/ntot)*100) if ntot else 0\n",
    "    print(f\"- Out of {ntot} games, {vals.get(False, 0)} were legal games and {vals.get(True, 0)} were illegal games, hence {illegal_percentage}% of illegal games.\")\n",
    "\n",
    "    print(\"Illegal moves are:\")\n",
    "    print(df.query(\"has_illegal == True\")['illegal_move'].value_counts().to_markdown())"
   ]
  },
  {
   "cell_type": "code",
   "execution_count": 75,
   "id": "081c26af-061c-4570-bdce-66db58160b05",
   "metadata": {},
   "outputs": [],
   "source": [
    "def parse_result(row, parse_method_if_illegal: callable):\n",
    "    if row[\"has_illegal\"] is True:\n",
    "        return parse_method_if_illegal(row)\n",
    "    \n",
    "    result_for_white = 1 if row[\"result\"] == \"1-0\" else 0 if row[\"result\"] == \"0-1\" else 0.5\n",
    "    if row['white_elo'] == '?':\n",
    "        return result_for_white\n",
    "    else:\n",
    "        return 1 - result_for_white\n",
    "\n",
    "def compute_elo_against_stockfish(df, model_name, computing_method: callable, parse_method_if_illegal:callable, filtering_rules=None):\n",
    "    df = df.query(f\"random_engine == False and (white == '{model_name}' or black == '{model_name}')\")\n",
    "    \n",
    "    if filtering_rules is not None:\n",
    "        print(f\"ELO OF {model_name}, WITH '{filtering_rules}':\")\n",
    "        df = df.query(filtering_rules)\n",
    "    else:\n",
    "        print(f\"ELO OF {model_name}:\")\n",
    "        \n",
    "    # Prepare the dataframe for elo calculation\n",
    "    new_df = pd.DataFrame()\n",
    "    new_df[\"opponent_elo\"] = df.apply(lambda row: float(row['white_elo'] if row['white_elo'] != '?' else row['black_elo']), axis=1)\n",
    "    new_df[\"result\"] = df.apply(lambda row: parse_result(row, parse_method_if_illegal), axis=1)\n",
    "\n",
    "    elo = round(computing_method(new_df))\n",
    "    print(elo)\n",
    "\n",
    "def fide_perf_rating(games: pd.DataFrame):\n",
    "    \"\"\"\n",
    "    required columns: opponent_elo and result (0 for loss, 0.5 for draw, 1 for win)\n",
    "    https://en.wikipedia.org/wiki/Elo_rating_system\n",
    "    \"\"\"\n",
    "    def lookup_fide_table(score):\n",
    "        # Data here: https://handbook.fide.com/chapter/B022017\n",
    "        data = {\n",
    "            'p': [1.0, .99, .98, .97, .96, .95, .94, .93, .92, .91, .90, .89, .88, .87, .86, .85, .84,\n",
    "                .83, .82, .81, .80, .79, .78, .77, .76, .75, .74, .73, .72, .71, .70, .69, .68, .67,\n",
    "                .66, .65, .64, .63, .62, .61, .60, .59, .58, .57, .56, .55, .54, .53, .52, .51, .50,\n",
    "                .49, .48, .47, .46, .45, .44, .43, .42, .41, .40, .39, .38, .37, .36, .35, .34, .33,\n",
    "                .32, .31, .30, .29, .28, .27, .26, .25, .24, .23, .22, .21, .20, .19, .18, .17, .16,\n",
    "                .15, .14, .13, .12, .11, .10, .09, .08, .07, .06, .05, .04, .03, .02, .01, 0.0],\n",
    "            'dp': [800, 677, 589, 538, 501, 470, 444, 422, 401, 383, 366, 351, 336, 322, 309, 296, 284,\n",
    "                273, 262, 251, 240, 230, 220, 211, 202, 193, 184, 175, 166, 158, 149, 141, 133, 125,\n",
    "                117, 110, 102, 95, 87, 80, 72, 65, 57, 50, 43, 36, 29, 21, 14, 7, 0, -7, -14, -21, \n",
    "                -29, -36, -43, -50, -57, -65, -72, -80, -87, -95, -102, -110, -117, -125, -133, -141,\n",
    "                -149, -158, -166, -175, -184, -193, -202, -211, -220, -230, -240, -251, -262, -273, \n",
    "                -284, -296, -309, -322, -336, -351, -366, -383, -401, -422, -444, -470, -501, -538, -589, -677, -800]\n",
    "        }\n",
    "        \n",
    "        # Convert to DataFrame\n",
    "        df_fide = pd.DataFrame(data)\n",
    "        \n",
    "        rscore = round(score, 2)\n",
    "        # lookup score in table\n",
    "        dp = df_fide.loc[df_fide['p'] == rscore, 'dp'].iloc[0]\n",
    "        return dp\n",
    "    \n",
    "    elo = games[\"opponent_elo\"].mean() + lookup_fide_table(games[\"result\"].mean())\n",
    "    return elo\n",
    "\n",
    "def illegal_implies_loss(row):\n",
    "    return 0"
   ]
  },
  {
   "cell_type": "code",
   "execution_count": 37,
   "id": "4a71c2c2-9ca0-44e1-8b8b-d7f3218c1dee",
   "metadata": {},
   "outputs": [],
   "source": [
    "# To load data from an existing dataframe:\n",
    "# df = pd.read_csv(\"analysis_files/games_replication_db.csv\")"
   ]
  },
  {
   "cell_type": "markdown",
   "id": "8c472656-4053-45da-81c3-709f56a748cc",
   "metadata": {},
   "source": [
    "# Store the games in a pandas dataframe"
   ]
  },
  {
   "cell_type": "code",
   "execution_count": 49,
   "id": "8d4fdc3f-ec87-42c3-8d21-638028789a49",
   "metadata": {},
   "outputs": [
    {
     "name": "stdout",
     "output_type": "stream",
     "text": [
      "Folder used: games_replication\n"
     ]
    }
   ],
   "source": [
    "# If you are using the notebook manually: set the correct folder in the default_folder variable\n",
    "# If the notebook is used for automatic html generation by docker: infer it from the GPTCHESS_GAMES_FILE environment variable\n",
    "\n",
    "default_folder = \"games_replication\"\n",
    "\n",
    "games_compressed_file = os.getenv(\"GPTCHESS_GAMES_FILE\")\n",
    "\n",
    "if games_compressed_file is None:\n",
    "    games_folder = default_folder\n",
    "else:\n",
    "    games_folder = os.path.join(os.getenv(\"WORKDIR\"),\n",
    "                                os.path.basename(games_compressed_file).split(\".\")[0]\n",
    "                               )\n",
    "    \n",
    "print(f\"Folder used: {games_folder}\")"
   ]
  },
  {
   "cell_type": "markdown",
   "id": "686af3b5-641f-4def-98ef-d003156b0b67",
   "metadata": {},
   "source": [
    "### Retrieve information from each game"
   ]
  },
  {
   "cell_type": "code",
   "execution_count": 50,
   "id": "215ff986-a523-4a92-a417-ca47369d4da0",
   "metadata": {},
   "outputs": [
    {
     "name": "stderr",
     "output_type": "stream",
     "text": [
      "illegal san: 'O-O' in qrnnbkrb/pppppppp/8/8/8/8/PPPPPPPP/QRNNBKRB w - - 0 1 while parsing <Game at 0x7e8743f87f40 ('Stockfish' vs. 'gpt-3.5-turbo-instruct', '????.??.??' at '?')>\n",
      "illegal san: 'O-O' in qrnnbkrb/pppppp1p/6p1/8/8/6P1/PPPPPP1P/QRNNBKRB w - - 0 2 while parsing <Game at 0x7e8743f9d060 ('Stockfish' vs. 'gpt-3.5-turbo-instruct', '????.??.??' at '?')>\n"
     ]
    }
   ],
   "source": [
    "# list each folder of folder \"games\"\n",
    "# get all folders\n",
    "folders = glob.glob(games_folder + \"/*\")\n",
    "\n",
    "# sort folders by date\n",
    "folders.sort(key=os.path.getmtime)\n",
    "\n",
    "df = pd.DataFrame(columns=[\"white\", \"black\", \"white_elo\", \"black_elo\", \"result\", \"nmoves\", \"nstarting_move\", \"pgn_base\", \"temperature\", \"random_engine\", \"has_illegal\", \"illegal_move\", \"folder_name\"])\n",
    "\n",
    "for folder in folders:\n",
    "\n",
    "    # for each folder:\n",
    "    # read PGN file \"game.pgn\"\n",
    "\n",
    "    # check that \"game.pgn\" exists\n",
    "    if not os.path.exists(folder + \"/game.pgn\"):\n",
    "        print(\"No game.pgn in \" + folder) # TODO\n",
    "        continue\n",
    "\n",
    "    with open(folder + \"/game.pgn\") as pgn:\n",
    "        game = chess.pgn.read_game(pgn)\n",
    "\n",
    "    # read metainformation.txt\n",
    "    # get the GPT model and the engine (SF or random)\n",
    "    nmove_value = None\n",
    "    with open(folder + \"/metainformation.txt\") as f:\n",
    "        lines = f.readlines()\n",
    "\n",
    "    # Iterate over each line in the file\n",
    "    for line in lines:\n",
    "        # Check if the line contains the string 'nmove:'\n",
    "        if 'nmove:' in line:\n",
    "            # Split the line at 'nmove:' and take the second part\n",
    "            # Then strip leading and trailing whitespaces and convert to integer\n",
    "            nmove_value = int(line.split('nmove:')[1].strip())\n",
    "            # Print the extracted value\n",
    "            break\n",
    "    \n",
    "    if nmove_value is None:\n",
    "        nmove_value = 1 # default value\n",
    "\n",
    "    # number of moves\n",
    "    game_length = len(list(game.mainline_moves()))\n",
    "\n",
    "    # for each PGN:\n",
    "    # get the GPT model and the engine (SF or random)\n",
    "    white = game.headers[\"White\"]\n",
    "    black = game.headers[\"Black\"]\n",
    "\n",
    "    # get the Elo of the player (if any)\n",
    "    white_elo = game.headers[\"WhiteElo\"]\n",
    "    black_elo = game.headers[\"BlackElo\"]\n",
    "\n",
    "    # get the result (or infer based on checkmates) # special case: no mate, or unifinished game due to wrong move\n",
    "    result = game.headers[\"Result\"]\n",
    "\n",
    "    has_illegal = False\n",
    "    illegal_move = ''\n",
    "    # check that UnknownSAN key is in game\n",
    "    # if not, continue\n",
    "    if 'UnknownSAN' in game.headers:\n",
    "        has_illegal = True\n",
    "        illegal_move = game.headers[\"UnknownSAN\"]\n",
    "        # print(\"warning: UnknownSAN in game\")\n",
    "        # continue\n",
    "\n",
    "    with open(folder + \"/metainformation.txt\") as file:\n",
    "        content = file.read()\n",
    "\n",
    "    # find the content between 'temperature:' and ends of line\n",
    "    match_random = re.search(r'random_engine:([\\s\\S]+?)(\\n)', content, re.MULTILINE)\n",
    "    random_engine = None\n",
    "    if match_random:\n",
    "        random_engine = match_random.group(1).strip()\n",
    "        if 'True' in random_engine:\n",
    "            random_engine = True\n",
    "        elif 'False' in random_engine:\n",
    "            random_engine = False\n",
    "        else:   \n",
    "            print(\"random engine value unclear/unknwon\")\n",
    "                \n",
    "    else:\n",
    "        random_engine = False\n",
    "        # print('No random engine found') # default value: False (note: should not happen)\n",
    "\n",
    "    with open(folder + \"/metainformation.txt\") as file:\n",
    "        content = file.read()\n",
    "\n",
    "    # find the content between 'temperature:' and ends of line\n",
    "    match_temperature = re.search(r'temperature:([\\s\\S]+?)(\\n)', content, re.MULTILINE)\n",
    "    temperature = None\n",
    "    if match_temperature:\n",
    "        temperature = match_temperature.group(1).strip()\n",
    "        # print(extracted_content)\n",
    "    else:\n",
    "        temperature = 0.0\n",
    "        # print('No temperature found') # default value: 0\n",
    "\n",
    "    with open(folder + \"/metainformation.txt\") as file:\n",
    "        content = file.read()\n",
    "\n",
    "    # Find the content between 'base_pgn:' and another term at the start of a new line followed by ':'\n",
    "    match = re.search(r'base_pgn:([\\s\\S]+?)(^\\w+:)', content, re.MULTILINE)\n",
    "    pgn_base = ''\n",
    "    if match:\n",
    "        # Extract and clean up the matched content\n",
    "        pgn_base = match.group(1).strip()\n",
    "        # print(extracted_content)\n",
    "    else:\n",
    "        print('No base pgn found')\n",
    "\n",
    "    # put in dfframe\n",
    "    # columns: white, black, white_elo, black_elo, result\n",
    "    # append to dataframe\n",
    "\n",
    "    game_data = pd.DataFrame([{\"white\": white, \"black\": black, \"white_elo\": white_elo, \"black_elo\": black_elo,\n",
    "                         \"result\": result, \"nmoves\" : game_length, \"nstarting_move\": nmove_value, \"pgn_base\" : pgn_base,\n",
    "                         \"temperature\" : temperature, \"random_engine\" : random_engine, \"has_illegal\" : has_illegal,\n",
    "                         \"illegal_move\" : illegal_move, \"folder_name\" : folder}])\n",
    "    df = pd.concat([df, game_data], ignore_index=True) if len(df) > 0 else game_data\n",
    "\n",
    "\n",
    "    # compute stats\n",
    "    # scores in general, per Elo and chess engine, per GPT model\n",
    "    # ability to finish a game (with weaker models)\n",
    "\n",
    "    # first: Elo = 1700, GPT=3.5 instruct\n",
    "    # second: Elo = 1800, GPT=3.5 instruct\n",
    "    # ...\n",
    "\n"
   ]
  },
  {
   "cell_type": "code",
   "execution_count": 51,
   "id": "14232eb4-5224-4d0b-9513-3045e6d9b020",
   "metadata": {},
   "outputs": [
    {
     "name": "stderr",
     "output_type": "stream",
     "text": [
      "illegal san: 'O-O' in qrnnbkrb/pppppppp/8/8/8/8/PPPPPPPP/QRNNBKRB w - - 0 1 while parsing <Game at 0x7e873b31eec0 ('Stockfish' vs. 'gpt-3.5-turbo-instruct', '????.??.??' at '?')>\n",
      "illegal san: 'O-O' in qrnnbkrb/pppppp1p/6p1/8/8/6P1/PPPPPP1P/QRNNBKRB w - - 0 2 while parsing <Game at 0x7e873a3dfdf0 ('Stockfish' vs. 'gpt-3.5-turbo-instruct', '????.??.??' at '?')>\n"
     ]
    }
   ],
   "source": [
    "# include a column indicating whether this is a normal chess game or chess960\n",
    "\n",
    "def is960(pgn):\n",
    "    g = chess.pgn.read_game(io.StringIO(pgn))\n",
    "    return g.headers.is_chess960()\n",
    "\n",
    "def get_moves(folder_name):\n",
    "    with open(folder_name + \"/game.pgn\") as pgn:\n",
    "        g = chess.pgn.read_game(io.StringIO(pgn.read()))\n",
    "        return g.mainline_moves()\n",
    "\n",
    "df[\"chess960\"] = df[\"pgn_base\"].apply(is960)\n",
    "df[\"moves\"] = df[\"folder_name\"].apply(get_moves)"
   ]
  },
  {
   "cell_type": "code",
   "execution_count": 52,
   "id": "da161263-44a8-4284-b1ec-014a17f3a7f5",
   "metadata": {},
   "outputs": [
    {
     "name": "stdout",
     "output_type": "stream",
     "text": [
      "-> 58/58 games retrieved\n"
     ]
    }
   ],
   "source": [
    "print(f\"-> {len(df)}/{len(folders)} games retrieved\")"
   ]
  },
  {
   "cell_type": "markdown",
   "id": "cf8bedbc-3076-4b91-919a-54df1f20d1c1",
   "metadata": {},
   "source": [
    "### Result"
   ]
  },
  {
   "cell_type": "code",
   "execution_count": 53,
   "id": "6d4b6dfc-8ca0-48f6-91ce-b948f9976554",
   "metadata": {},
   "outputs": [
    {
     "data": {
      "text/html": [
       "<div>\n",
       "<style scoped>\n",
       "    .dataframe tbody tr th:only-of-type {\n",
       "        vertical-align: middle;\n",
       "    }\n",
       "\n",
       "    .dataframe tbody tr th {\n",
       "        vertical-align: top;\n",
       "    }\n",
       "\n",
       "    .dataframe thead th {\n",
       "        text-align: right;\n",
       "    }\n",
       "</style>\n",
       "<table border=\"1\" class=\"dataframe\">\n",
       "  <thead>\n",
       "    <tr style=\"text-align: right;\">\n",
       "      <th></th>\n",
       "      <th>white</th>\n",
       "      <th>black</th>\n",
       "      <th>white_elo</th>\n",
       "      <th>black_elo</th>\n",
       "      <th>result</th>\n",
       "      <th>nmoves</th>\n",
       "      <th>nstarting_move</th>\n",
       "      <th>pgn_base</th>\n",
       "      <th>temperature</th>\n",
       "      <th>random_engine</th>\n",
       "      <th>has_illegal</th>\n",
       "      <th>illegal_move</th>\n",
       "      <th>folder_name</th>\n",
       "      <th>chess960</th>\n",
       "      <th>moves</th>\n",
       "    </tr>\n",
       "  </thead>\n",
       "  <tbody>\n",
       "    <tr>\n",
       "      <th>0</th>\n",
       "      <td>Stockfish</td>\n",
       "      <td>gpt-3.5-turbo-instruct</td>\n",
       "      <td>1954</td>\n",
       "      <td>?</td>\n",
       "      <td>*</td>\n",
       "      <td>85</td>\n",
       "      <td>1</td>\n",
       "      <td>[Event \"FIDE World Championship Match 2024\"]\\n...</td>\n",
       "      <td>0.0</td>\n",
       "      <td>False</td>\n",
       "      <td>True</td>\n",
       "      <td>1-0</td>\n",
       "      <td>games_replication/game341afeb0-1a45-4134-8853-...</td>\n",
       "      <td>False</td>\n",
       "      <td>1. e4 e5 2. Nf3 Nc6 3. Bb5 a6 4. Bxc6 dxc6 5. ...</td>\n",
       "    </tr>\n",
       "    <tr>\n",
       "      <th>1</th>\n",
       "      <td>Stockfish</td>\n",
       "      <td>gpt-3.5-turbo-instruct</td>\n",
       "      <td>1954</td>\n",
       "      <td>?</td>\n",
       "      <td>*</td>\n",
       "      <td>11</td>\n",
       "      <td>1</td>\n",
       "      <td>[Event \"FIDE World Championship Match 2024\"]\\n...</td>\n",
       "      <td>0.0</td>\n",
       "      <td>False</td>\n",
       "      <td>True</td>\n",
       "      <td>Qxd4</td>\n",
       "      <td>games_replication/game7a75ff64-8bf2-44b8-a82b-...</td>\n",
       "      <td>True</td>\n",
       "      <td>1. c4 c6 2. h4 d5 3. b3 e5 4. Ned3 Nf6 5. Nxe5...</td>\n",
       "    </tr>\n",
       "    <tr>\n",
       "      <th>2</th>\n",
       "      <td>Stockfish</td>\n",
       "      <td>gpt-3.5-turbo-instruct</td>\n",
       "      <td>1954</td>\n",
       "      <td>?</td>\n",
       "      <td>*</td>\n",
       "      <td>121</td>\n",
       "      <td>1</td>\n",
       "      <td>[Event \"FIDE World Championship Match 2024\"]\\n...</td>\n",
       "      <td>0.0</td>\n",
       "      <td>False</td>\n",
       "      <td>True</td>\n",
       "      <td>1-0</td>\n",
       "      <td>games_replication/game46b90389-512f-4e60-8167-...</td>\n",
       "      <td>False</td>\n",
       "      <td>1. Nf3 Nf6 2. d4 d5 3. Bf4 c5 4. dxc5 Nc6 5. a...</td>\n",
       "    </tr>\n",
       "    <tr>\n",
       "      <th>3</th>\n",
       "      <td>Stockfish</td>\n",
       "      <td>gpt-3.5-turbo-instruct</td>\n",
       "      <td>1954</td>\n",
       "      <td>?</td>\n",
       "      <td>*</td>\n",
       "      <td>9</td>\n",
       "      <td>1</td>\n",
       "      <td>[Event \"FIDE World Championship Match 2024\"]\\n...</td>\n",
       "      <td>0.0</td>\n",
       "      <td>False</td>\n",
       "      <td>True</td>\n",
       "      <td>Nf6</td>\n",
       "      <td>games_replication/game90832e60-aeb0-4558-b1e7-...</td>\n",
       "      <td>True</td>\n",
       "      <td>1. c4 c6 2. Ncd3 d5 3. c5 Nc7 4. h4 h5 5. Ne5</td>\n",
       "    </tr>\n",
       "    <tr>\n",
       "      <th>4</th>\n",
       "      <td>Stockfish</td>\n",
       "      <td>gpt-3.5-turbo-instruct</td>\n",
       "      <td>1954</td>\n",
       "      <td>?</td>\n",
       "      <td>*</td>\n",
       "      <td>1</td>\n",
       "      <td>1</td>\n",
       "      <td>[Event \"World Fischer Random 2024\"]\\n[Site \"Lo...</td>\n",
       "      <td>0.0</td>\n",
       "      <td>False</td>\n",
       "      <td>True</td>\n",
       "      <td>Nc6</td>\n",
       "      <td>games_replication/game18af3ca6-7836-4c73-a465-...</td>\n",
       "      <td>True</td>\n",
       "      <td>1. Ncd3</td>\n",
       "    </tr>\n",
       "  </tbody>\n",
       "</table>\n",
       "</div>"
      ],
      "text/plain": [
       "       white                   black white_elo black_elo result  nmoves  \\\n",
       "0  Stockfish  gpt-3.5-turbo-instruct      1954         ?      *      85   \n",
       "1  Stockfish  gpt-3.5-turbo-instruct      1954         ?      *      11   \n",
       "2  Stockfish  gpt-3.5-turbo-instruct      1954         ?      *     121   \n",
       "3  Stockfish  gpt-3.5-turbo-instruct      1954         ?      *       9   \n",
       "4  Stockfish  gpt-3.5-turbo-instruct      1954         ?      *       1   \n",
       "\n",
       "   nstarting_move                                           pgn_base  \\\n",
       "0               1  [Event \"FIDE World Championship Match 2024\"]\\n...   \n",
       "1               1  [Event \"FIDE World Championship Match 2024\"]\\n...   \n",
       "2               1  [Event \"FIDE World Championship Match 2024\"]\\n...   \n",
       "3               1  [Event \"FIDE World Championship Match 2024\"]\\n...   \n",
       "4               1  [Event \"World Fischer Random 2024\"]\\n[Site \"Lo...   \n",
       "\n",
       "  temperature  random_engine  has_illegal illegal_move  \\\n",
       "0         0.0          False         True          1-0   \n",
       "1         0.0          False         True         Qxd4   \n",
       "2         0.0          False         True          1-0   \n",
       "3         0.0          False         True          Nf6   \n",
       "4         0.0          False         True          Nc6   \n",
       "\n",
       "                                         folder_name  chess960  \\\n",
       "0  games_replication/game341afeb0-1a45-4134-8853-...     False   \n",
       "1  games_replication/game7a75ff64-8bf2-44b8-a82b-...      True   \n",
       "2  games_replication/game46b90389-512f-4e60-8167-...     False   \n",
       "3  games_replication/game90832e60-aeb0-4558-b1e7-...      True   \n",
       "4  games_replication/game18af3ca6-7836-4c73-a465-...      True   \n",
       "\n",
       "                                               moves  \n",
       "0  1. e4 e5 2. Nf3 Nc6 3. Bb5 a6 4. Bxc6 dxc6 5. ...  \n",
       "1  1. c4 c6 2. h4 d5 3. b3 e5 4. Ned3 Nf6 5. Nxe5...  \n",
       "2  1. Nf3 Nf6 2. d4 d5 3. Bf4 c5 4. dxc5 Nc6 5. a...  \n",
       "3      1. c4 c6 2. Ncd3 d5 3. c5 Nc7 4. h4 h5 5. Ne5  \n",
       "4                                            1. Ncd3  "
      ]
     },
     "execution_count": 53,
     "metadata": {},
     "output_type": "execute_result"
    }
   ],
   "source": [
    "df.head()"
   ]
  },
  {
   "cell_type": "code",
   "execution_count": 82,
   "id": "4845b045-1dcb-4cd4-abbe-1e5539c276c9",
   "metadata": {},
   "outputs": [
    {
     "name": "stdout",
     "output_type": "stream",
     "text": [
      "- Variant Normal:\n",
      "       gpt-3.5-turbo-instruct  llama-3.3-70b-versatile\n",
      "white                       0                        0\n",
      "black                       5                       20\n",
      "total                       5                       20 \n",
      "\n",
      "- Variant Chess960:\n",
      "       gpt-3.5-turbo-instruct  llama-3.3-70b-versatile\n",
      "white                       0                        0\n",
      "black                      13                       20\n",
      "total                      13                       20 \n",
      "\n"
     ]
    }
   ],
   "source": [
    "# Frequencies based on piece colors\n",
    "for variant in (\"Normal\", \"Chess960\"):\n",
    "    chess960 = variant == \"Chess960\"\n",
    "    \n",
    "    df_variant = df[df[\"chess960\"] == chess960]\n",
    "    players = set(df_variant[\"white\"].unique()).union(set(df_variant[\"black\"].unique())).difference({\"Stockfish\"})\n",
    "    color_breakdown = {}\n",
    "    for player in players:\n",
    "        white_count = df_variant[df_variant['white'] == player].shape[0]\n",
    "        black_count = df_variant[df_variant['black'] == player].shape[0]\n",
    "        color_breakdown[player] = {'white': white_count, 'black': black_count, 'total': white_count+black_count}\n",
    "\n",
    "    print(f\"- Variant {variant}:\")\n",
    "    print(pd.DataFrame(color_breakdown), \"\\n\")"
   ]
  },
  {
   "cell_type": "code",
   "execution_count": 55,
   "id": "d31b8217-33f0-491e-a138-5699a681dda2",
   "metadata": {},
   "outputs": [
    {
     "name": "stdout",
     "output_type": "stream",
     "text": [
      "Saved at analysis_files/games_replication_db.csv\n"
     ]
    }
   ],
   "source": [
    "df.to_csv(f\"analysis_files/{os.path.basename(games_folder)}_db.csv\")\n",
    "print(f\"Saved at analysis_files/{os.path.basename(games_folder)}_db.csv\")"
   ]
  },
  {
   "cell_type": "markdown",
   "id": "717cd3dc-5958-455f-adc7-76142ed05579",
   "metadata": {
    "jp-MarkdownHeadingCollapsed": true
   },
   "source": [
    "# Llama against Stockfish: standard chess"
   ]
  },
  {
   "cell_type": "code",
   "execution_count": 56,
   "id": "d1381e40-e28a-48bc-8128-fbd1fc78c104",
   "metadata": {},
   "outputs": [],
   "source": [
    "df_normal = df.query(\"chess960 == False\")"
   ]
  },
  {
   "cell_type": "code",
   "execution_count": 57,
   "id": "e9f717a3-c71f-48d6-a9d1-d6c4bb735f27",
   "metadata": {},
   "outputs": [
    {
     "name": "stdout",
     "output_type": "stream",
     "text": [
      "ANALYSIS OF llama-3.3-70b-versatile:\n",
      "- 20 total games, with lengths:\n"
     ]
    },
    {
     "data": {
      "image/png": "[encoded data removed]",
      "text/plain": [
       "<Figure size 640x480 with 1 Axes>"
      ]
     },
     "metadata": {},
     "output_type": "display_data"
    },
    {
     "name": "stdout",
     "output_type": "stream",
     "text": [
      "Score 0.0% for all games i.e. 0.0/20, being legal or illegal (illegal move = loss)\n",
      "- Out of 20 games, 0 were legal games and 20 were illegal games, hence 100% of illegal games.\n",
      "Illegal moves are:\n",
      "| illegal_move   |   count |\n",
      "|:---------------|--------:|\n",
      "| Qe7            |      10 |\n",
      "| bxc6           |       2 |\n",
      "| b5             |       1 |\n",
      "| Be7            |       1 |\n",
      "| Kxe2           |       1 |\n",
      "| Nxb4           |       1 |\n",
      "| Bxe2           |       1 |\n",
      "| Kd8            |       1 |\n",
      "| Nxc5           |       1 |\n",
      "| Qxe2           |       1 |\n"
     ]
    }
   ],
   "source": [
    "illegal_moves_analysis(df_normal, \"llama-3.3-70b-versatile\")"
   ]
  },
  {
   "cell_type": "markdown",
   "id": "42e9388a-10b1-42e3-847f-246b71f9fec4",
   "metadata": {},
   "source": [
    "These games seem to indicate that Llama is not able to play a full legal chess game.\n",
    "\n",
    "Contrary to GPT 3.5-turbo-instruct, the Llama model doesn't make an illegal move by \"resigning\" the game (1-0), but seems to produce \"real\" illegal moves. Interestingly, the \"Qe7\" illegal move is particularly recurrent in our (small!) dataset. Here is a few games featuring it:"
   ]
  },
  {
   "cell_type": "code",
   "execution_count": 58,
   "id": "59d8afce-7011-46e4-ab2e-a5486c3a167e",
   "metadata": {},
   "outputs": [
    {
     "data": {
      "text/plain": [
       "10"
      ]
     },
     "execution_count": 58,
     "metadata": {},
     "output_type": "execute_result"
    }
   ],
   "source": [
    "df_normal_Qe7 = df_normal.query(\"illegal_move == 'Qe7'\")\n",
    "len(df_normal_Qe7)"
   ]
  },
  {
   "cell_type": "code",
   "execution_count": 60,
   "id": "d1f6f0bb-0478-406c-9bf3-7ee9c4e30615",
   "metadata": {},
   "outputs": [
    {
     "data": {
      "text/plain": [
       "pandas.core.frame.DataFrame"
      ]
     },
     "execution_count": 60,
     "metadata": {},
     "output_type": "execute_result"
    }
   ],
   "source": [
    "type(df_normal_Qe7)"
   ]
  },
  {
   "cell_type": "code",
   "execution_count": 63,
   "id": "e3bd83eb-f551-43fa-8d82-280e95704283",
   "metadata": {},
   "outputs": [
    {
     "name": "stdout",
     "output_type": "stream",
     "text": [
      "[Event \"llama-3.3-70b-versatile vs Stockfish\"]\n",
      "[Site \"?\"]\n",
      "[Date \"????.??.??\"]\n",
      "[Round \"?\"]\n",
      "[White \"Stockfish\"]\n",
      "[Black \"llama-3.3-70b-versatile\"]\n",
      "[Result \"*\"]\n",
      "[WhiteElo \"1954\"]\n",
      "[BlackElo \"?\"]\n",
      "[UnknownSAN \"Qe7\"]\n",
      "\n",
      "1. d4 d5 2. Nd2 Nf6 3. e3 e6 4. Ngf3 Be7 5. b3 b6 6. Bd3 c5 7. O-O Nc6 8. Qe2 a6 9. Bb2 *\n"
     ]
    },
    {
     "data": {
      "application/vnd.jupyter.widget-view+json": {
       "model_id": "7a62a3552d6e47ea9f25ab88d66076ac",
       "version_major": 2,
       "version_minor": 0
      },
      "text/plain": [
       "Dropdown(description='Game:', options=(('Stockfish-llama-3.3-70b-versatile * (g 1)', 0),), value=0)"
      ]
     },
     "metadata": {},
     "output_type": "display_data"
    },
    {
     "data": {
      "application/vnd.jupyter.widget-view+json": {
       "model_id": "d8be4ac54a5245deb4a0bd64f4ac4d27",
       "version_major": 2,
       "version_minor": 0
      },
      "text/plain": [
       "Output()"
      ]
     },
     "metadata": {},
     "output_type": "display_data"
    },
    {
     "data": {
      "application/vnd.jupyter.widget-view+json": {
       "model_id": "4aae4f3aa4f34bcc95f37d6ebbe197cf",
       "version_major": 2,
       "version_minor": 0
      },
      "text/plain": [
       "Output()"
      ]
     },
     "metadata": {},
     "output_type": "display_data"
    }
   ],
   "source": [
    "display_game(df_normal_Qe7[\"folder_name\"].iloc[0])"
   ]
  },
  {
   "cell_type": "code",
   "execution_count": 64,
   "id": "c91b6bfa-e143-41f1-88b6-210ba64cb9f6",
   "metadata": {},
   "outputs": [
    {
     "name": "stdout",
     "output_type": "stream",
     "text": [
      "[Event \"llama-3.3-70b-versatile vs Stockfish\"]\n",
      "[Site \"?\"]\n",
      "[Date \"????.??.??\"]\n",
      "[Round \"?\"]\n",
      "[White \"Stockfish\"]\n",
      "[Black \"llama-3.3-70b-versatile\"]\n",
      "[Result \"*\"]\n",
      "[WhiteElo \"1954\"]\n",
      "[BlackElo \"?\"]\n",
      "[UnknownSAN \"Qe7\"]\n",
      "\n",
      "1. e4 e5 2. d4 exd4 3. Bc4 Nf6 4. Qxd4 Nc6 5. Qd3 d6 6. Nf3 Be7 7. Nc3 a6 8. a3 b5 9. Bd5 Na5 10. Bxa8 *\n"
     ]
    },
    {
     "data": {
      "application/vnd.jupyter.widget-view+json": {
       "model_id": "092a01746d6346b1a502b0a8ec875d6e",
       "version_major": 2,
       "version_minor": 0
      },
      "text/plain": [
       "Dropdown(description='Game:', options=(('Stockfish-llama-3.3-70b-versatile * (g 1)', 0),), value=0)"
      ]
     },
     "metadata": {},
     "output_type": "display_data"
    },
    {
     "data": {
      "application/vnd.jupyter.widget-view+json": {
       "model_id": "242c4d41e1984d278131508a71f983da",
       "version_major": 2,
       "version_minor": 0
      },
      "text/plain": [
       "Output()"
      ]
     },
     "metadata": {},
     "output_type": "display_data"
    },
    {
     "data": {
      "application/vnd.jupyter.widget-view+json": {
       "model_id": "505ab88d44784180b733b2955f92496e",
       "version_major": 2,
       "version_minor": 0
      },
      "text/plain": [
       "Output()"
      ]
     },
     "metadata": {},
     "output_type": "display_data"
    }
   ],
   "source": [
    "display_game(df_normal_Qe7[\"folder_name\"].iloc[1])"
   ]
  },
  {
   "cell_type": "code",
   "execution_count": 66,
   "id": "dd8b0f8d-45fc-4e93-be84-b01bd877e6d6",
   "metadata": {},
   "outputs": [
    {
     "name": "stdout",
     "output_type": "stream",
     "text": [
      "[Event \"llama-3.3-70b-versatile vs Stockfish\"]\n",
      "[Site \"?\"]\n",
      "[Date \"????.??.??\"]\n",
      "[Round \"?\"]\n",
      "[White \"Stockfish\"]\n",
      "[Black \"llama-3.3-70b-versatile\"]\n",
      "[Result \"*\"]\n",
      "[WhiteElo \"1954\"]\n",
      "[BlackElo \"?\"]\n",
      "[UnknownSAN \"Qe7\"]\n",
      "\n",
      "1. Nf3 d5 2. d4 Nf6 3. e3 e6 4. c4 c6 5. Nc3 b6 6. Qc2 Be7 7. a3 a6 8. g4 h6 9. Rg1 g5 10. h4 gxh4 11. Bd2 Bb7 12. g5 hxg5 13. Nxg5 Nbd7 14. Nxf7 Kxf7 15. Qg6+ Kf8 16. e4 dxe4 17. Be2 *\n"
     ]
    },
    {
     "data": {
      "application/vnd.jupyter.widget-view+json": {
       "model_id": "aca2d35208c04adb92b6370e86dd7628",
       "version_major": 2,
       "version_minor": 0
      },
      "text/plain": [
       "Dropdown(description='Game:', options=(('Stockfish-llama-3.3-70b-versatile * (g 1)', 0),), value=0)"
      ]
     },
     "metadata": {},
     "output_type": "display_data"
    },
    {
     "data": {
      "application/vnd.jupyter.widget-view+json": {
       "model_id": "cce9f5e34a864496b5a17445735eac5b",
       "version_major": 2,
       "version_minor": 0
      },
      "text/plain": [
       "Output()"
      ]
     },
     "metadata": {},
     "output_type": "display_data"
    },
    {
     "data": {
      "application/vnd.jupyter.widget-view+json": {
       "model_id": "ed53356b6c4442db9ce66c11a43f4b60",
       "version_major": 2,
       "version_minor": 0
      },
      "text/plain": [
       "Output()"
      ]
     },
     "metadata": {},
     "output_type": "display_data"
    }
   ],
   "source": [
    "display_game(df_normal_Qe7[\"folder_name\"].iloc[2])"
   ]
  },
  {
   "cell_type": "markdown",
   "id": "c0d9316a-7524-457d-824c-75c7d3104df5",
   "metadata": {},
   "source": [
    "The recurrent pattern here is that the LLM didn't acknowledge the black bishop on e7, obstructing black's queen from going to that square."
   ]
  },
  {
   "cell_type": "markdown",
   "id": "a3dcfa30-29a1-4329-bed7-6b2bbe5b3ab6",
   "metadata": {},
   "source": [
    "# GPT 3.5 turbo-instruct and Llama against Stockfish: Chess 960"
   ]
  },
  {
   "cell_type": "code",
   "execution_count": 77,
   "id": "d058586b-b20e-41e2-b701-21641e404875",
   "metadata": {},
   "outputs": [],
   "source": [
    "df_960 = df.query(\"chess960 == True\")"
   ]
  },
  {
   "cell_type": "markdown",
   "id": "a6003c8b-821e-4d1d-be15-993d1350a99c",
   "metadata": {},
   "source": [
    "### GPT 3.5-turbo-instruct"
   ]
  },
  {
   "cell_type": "code",
   "execution_count": 83,
   "id": "b70eca86-14a8-4480-8a59-731734daa8ef",
   "metadata": {},
   "outputs": [
    {
     "name": "stdout",
     "output_type": "stream",
     "text": [
      "ANALYSIS OF gpt-3.5-turbo-instruct:\n",
      "- 13 total games, with lengths:\n"
     ]
    },
    {
     "data": {
      "image/png": "[encoded data removed]",
      "text/plain": [
       "<Figure size 640x480 with 1 Axes>"
      ]
     },
     "metadata": {},
     "output_type": "display_data"
    },
    {
     "name": "stdout",
     "output_type": "stream",
     "text": [
      "- Score 0.0% for games with only legal moves\n",
      "Score 0.0% for all games i.e. 0.0/13, being legal or illegal (illegal move = loss)\n",
      "- Out of 13 games, 1 were legal games and 12 were illegal games, hence 92% of illegal games.\n",
      "Illegal moves are:\n",
      "| illegal_move   |   count |\n",
      "|:---------------|--------:|\n",
      "| Nf6            |       2 |\n",
      "| Nc6            |       2 |\n",
      "| Qxd4           |       1 |\n",
      "| Nf8            |       1 |\n",
      "| Bg7            |       1 |\n",
      "| 1.             |       1 |\n",
      "| -O             |       1 |\n",
      "| Bg4            |       1 |\n",
      "| O-O            |       1 |\n",
      "| Kxd8           |       1 |\n"
     ]
    }
   ],
   "source": [
    "illegal_moves_analysis(df_960, \"gpt-3.5-turbo-instruct\")"
   ]
  },
  {
   "cell_type": "markdown",
   "id": "e6755905-d32b-449e-9c9a-77852162c14e",
   "metadata": {},
   "source": [
    "It appears that, among the few games that were generated, only the following one was totally legal."
   ]
  },
  {
   "cell_type": "code",
   "execution_count": 84,
   "id": "3c6ce7e9-3ba3-451d-a2dd-304e183f03c8",
   "metadata": {},
   "outputs": [
    {
     "name": "stdout",
     "output_type": "stream",
     "text": [
      "[Event \"gpt-3.5-turbo-instruct vs Stockfish\"]\n",
      "[Site \"?\"]\n",
      "[Date \"????.??.??\"]\n",
      "[Round \"?\"]\n",
      "[White \"Stockfish\"]\n",
      "[Black \"gpt-3.5-turbo-instruct\"]\n",
      "[Result \"1-0\"]\n",
      "[FEN \"bqnbnrkr/pppppppp/8/8/8/8/PPPPPPPP/BQNBNRKR w - - 1 1\"]\n",
      "[SetUp \"1\"]\n",
      "[WhiteElo \"1954\"]\n",
      "[BlackElo \"?\"]\n",
      "\n",
      "1. h4 g6 2. h5 gxh5 3. b3 Nf6 4. Rh3 d5 5. Bxf6 exf6 6. Rg3# 1-0\n"
     ]
    },
    {
     "data": {
      "application/vnd.jupyter.widget-view+json": {
       "model_id": "978bb62ae75f42c0b3c264f7969238c8",
       "version_major": 2,
       "version_minor": 0
      },
      "text/plain": [
       "Dropdown(description='Game:', options=(('Stockfish-gpt-3.5-turbo-instruct 1-0 (g 1)', 0),), value=0)"
      ]
     },
     "metadata": {},
     "output_type": "display_data"
    },
    {
     "data": {
      "application/vnd.jupyter.widget-view+json": {
       "model_id": "afe36eb5e79043a087d6771339dcd4e9",
       "version_major": 2,
       "version_minor": 0
      },
      "text/plain": [
       "Output()"
      ]
     },
     "metadata": {},
     "output_type": "display_data"
    },
    {
     "data": {
      "application/vnd.jupyter.widget-view+json": {
       "model_id": "3673624725b544bea80fd0624b16d36c",
       "version_major": 2,
       "version_minor": 0
      },
      "text/plain": [
       "Output()"
      ]
     },
     "metadata": {},
     "output_type": "display_data"
    }
   ],
   "source": [
    "display_game(df_960.query(\"black=='gpt-3.5-turbo-instruct' and has_illegal == False\")[\"folder_name\"].iloc[0])"
   ]
  },
  {
   "cell_type": "markdown",
   "id": "798950a7-cce8-4d24-a3dc-dec01da9a494",
   "metadata": {},
   "source": [
    "We can notice that no move would have been illegal in regular chess either: this game does not really prove the LLM can detect that it is Fischer Random."
   ]
  },
  {
   "cell_type": "markdown",
   "id": "9ec3d01a-8c22-45b8-9ab9-d8235631fae5",
   "metadata": {},
   "source": [
    "### llama-3.3-70b-versatile"
   ]
  },
  {
   "cell_type": "code",
   "execution_count": 85,
   "id": "30d73b09-b75e-4bc7-a742-f59625948e37",
   "metadata": {},
   "outputs": [
    {
     "name": "stdout",
     "output_type": "stream",
     "text": [
      "ANALYSIS OF llama-3.3-70b-versatile:\n",
      "- 20 total games, with lengths:\n"
     ]
    },
    {
     "data": {
      "image/png": "[encoded data removed]",
      "text/plain": [
       "<Figure size 640x480 with 1 Axes>"
      ]
     },
     "metadata": {},
     "output_type": "display_data"
    },
    {
     "name": "stdout",
     "output_type": "stream",
     "text": [
      "Score 0.0% for all games i.e. 0.0/20, being legal or illegal (illegal move = loss)\n",
      "- Out of 20 games, 0 were legal games and 20 were illegal games, hence 100% of illegal games.\n",
      "Illegal moves are:\n",
      "| illegal_move   |   count |\n",
      "|:---------------|--------:|\n",
      "| Since          |      12 |\n",
      "| A              |       5 |\n",
      "| The            |       3 |\n"
     ]
    }
   ],
   "source": [
    "illegal_moves_analysis(df_960, \"llama-3.3-70b-versatile\")"
   ]
  },
  {
   "cell_type": "markdown",
   "id": "9ef4edc3-d9e5-4bac-8b16-c11545c25850",
   "metadata": {},
   "source": [
    "As you can see, despite indicating clearly what we want in the role given to the model, Llama doesn't even try to complete the PGN."
   ]
  },
  {
   "cell_type": "code",
   "execution_count": null,
   "id": "7d3487c5-65a3-45c9-b68c-c45c4ff67944",
   "metadata": {},
   "outputs": [],
   "source": []
  }
 ],
 "metadata": {
  "kernelspec": {
   "display_name": "Python 3 (ipykernel)",
   "language": "python",
   "name": "python3"
  },
  "language_info": {
   "codemirror_mode": {
    "name": "ipython",
    "version": 3
   },
   "file_extension": ".py",
   "mimetype": "text/x-python",
   "name": "python",
   "nbconvert_exporter": "python",
   "pygments_lexer": "ipython3",
   "version": "3.10.12"
  }
 },
 "nbformat": 4,
 "nbformat_minor": 5
}
